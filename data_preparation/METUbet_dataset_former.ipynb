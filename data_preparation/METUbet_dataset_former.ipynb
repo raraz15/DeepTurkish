{
 "cells": [
  {
   "cell_type": "markdown",
   "metadata": {},
   "source": [
    "# METUbet_dataset_former\n",
    "This notebook is for creating a dataframe that captures the necessary information form the METUbet dataset."
   ]
  },
  {
   "cell_type": "code",
   "execution_count": null,
   "metadata": {},
   "outputs": [],
   "source": [
    "import os\n",
    "\n",
    "import pandas as pd"
   ]
  },
  {
   "cell_type": "code",
   "execution_count": null,
   "metadata": {},
   "outputs": [],
   "source": [
    "dataset_dir = os.path.join(\"..\",\"data\",\"Datasets\",\"METUbet\",\"data\",\"speech-text\")"
   ]
  },
  {
   "cell_type": "code",
   "execution_count": null,
   "metadata": {},
   "outputs": [],
   "source": [
    "clip_dirs = [] # Folders containing recordings\n",
    "\n",
    "for root,_,_ in os.walk(dataset_dir):\n",
    "\n",
    "    clip_dirs.append(root)\n",
    "    \n",
    "clip_dirs.pop(0) # Remove parent directory"
   ]
  },
  {
   "cell_type": "code",
   "execution_count": null,
   "metadata": {
    "scrolled": true
   },
   "outputs": [],
   "source": [
    "utterance_dict = dict()\n",
    "#paths = []\n",
    "\n",
    "for clip_dir in clip_dirs: # for every folder\n",
    "    \n",
    "    for roots,dirs,file_names in os.walk(clip_dir): # get the files in a list\n",
    "        for file_name in file_names: # for every file\n",
    "            \n",
    "            # read only texts transcriptions\n",
    "            if file_name.split('.')[-1] == 'txt' and file_name.split('-')[-1] != file_name:\n",
    "                \n",
    "                file_dir = os.path.join(roots,file_name)\n",
    "                #paths.append(file_dir)\n",
    "                \n",
    "                file = open(file_dir,'r')\n",
    "                lines = file.readlines()\n",
    "                file.close()\n",
    "                \n",
    "                utterance = lines[0].split('\\n')[0] # clean /n\n",
    "                \n",
    "                if utterance[-1] == ' ': # clean the final space\n",
    "                    \n",
    "                    audio_path = file_name.split('.')[0]+'.wav'\n",
    "                    utterance_dict[audio_path] = utterance[:-1]                             "
   ]
  },
  {
   "cell_type": "code",
   "execution_count": null,
   "metadata": {},
   "outputs": [],
   "source": [
    "col1 = pd.Series(list(utterance_dict.keys()), name='path')\n",
    "col2 = pd.Series(list(utterance_dict.values()), name='sentence')"
   ]
  },
  {
   "cell_type": "code",
   "execution_count": null,
   "metadata": {},
   "outputs": [],
   "source": [
    "df = pd.concat([col1,col2],axis=1)"
   ]
  },
  {
   "cell_type": "markdown",
   "metadata": {},
   "source": [
    "a = {'ID':utterance_dict.keys(), 'sentence': utterance_dict.values()}"
   ]
  },
  {
   "cell_type": "markdown",
   "metadata": {},
   "source": [
    "df = pd.DataFrame.from_dict(a,orient='index')"
   ]
  },
  {
   "cell_type": "markdown",
   "metadata": {},
   "source": [
    "df = pd.DataFrame.from_dict(a)"
   ]
  },
  {
   "cell_type": "markdown",
   "metadata": {},
   "source": [
    "df"
   ]
  },
  {
   "cell_type": "markdown",
   "metadata": {},
   "source": [
    "## Export"
   ]
  },
  {
   "cell_type": "code",
   "execution_count": null,
   "metadata": {},
   "outputs": [],
   "source": [
    "export_dir = os.path.join(dataset_dir,'..')\n",
    "\n",
    "df.to_csv(os.path.join(export_dir,\"METUbet.csv\"),index=False)\n",
    "df.to_pickle(os.path.join(export_dir,\"METUbet.pkl\")) "
   ]
  }
 ],
 "metadata": {
  "kernelspec": {
   "display_name": "Python 3",
   "language": "python",
   "name": "python3"
  },
  "language_info": {
   "codemirror_mode": {
    "name": "ipython",
    "version": 3
   },
   "file_extension": ".py",
   "mimetype": "text/x-python",
   "name": "python",
   "nbconvert_exporter": "python",
   "pygments_lexer": "ipython3",
   "version": "3.8.3"
  }
 },
 "nbformat": 4,
 "nbformat_minor": 4
}
