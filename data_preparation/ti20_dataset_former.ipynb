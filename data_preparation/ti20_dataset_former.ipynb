{
 "cells": [
  {
   "cell_type": "code",
   "execution_count": 1,
   "metadata": {},
   "outputs": [],
   "source": [
    "import os\n",
    "\n",
    "import pandas as pd"
   ]
  },
  {
   "cell_type": "code",
   "execution_count": 7,
   "metadata": {},
   "outputs": [],
   "source": [
    "tt = \"test\" # for reading and exporting correctly\n",
    "\n",
    "dataset_dir = os.path.join(\"..\",\"..\",\"Datasets\",\"ti20\",tt,\"clean\")"
   ]
  },
  {
   "cell_type": "code",
   "execution_count": 8,
   "metadata": {},
   "outputs": [
    {
     "data": {
      "text/plain": [
       "'..\\\\..\\\\Datasets\\\\ti20\\\\test\\\\clean'"
      ]
     },
     "execution_count": 8,
     "metadata": {},
     "output_type": "execute_result"
    }
   ],
   "source": [
    "clip_dirs = []\n",
    "\n",
    "for root,dirs,files in os.walk(dataset_dir):\n",
    "    \n",
    "    #print(root)\n",
    "    clip_dirs.append(root)\n",
    "    \n",
    "clip_dirs.pop(0) # Remove parent directory"
   ]
  },
  {
   "cell_type": "code",
   "execution_count": 10,
   "metadata": {},
   "outputs": [],
   "source": [
    "prefix_dict = dict()\n",
    "\n",
    "for clip_dir in clip_dirs:\n",
    "    \n",
    "    suffix = clip_dir.split(\"\\\\\")[-1]\n",
    "    \n",
    "    for root,dirs,files in os.walk(clip_dir):\n",
    "        \n",
    "        for file in files:\n",
    "            \n",
    "            \n",
    "            prefix = file.split(suffix)[0]\n",
    "            \n",
    "            if prefix not in prefix_dict:\n",
    "                \n",
    "                prefix_dict[prefix] = 1\n",
    "            \n",
    "            else:\n",
    "            \n",
    "                prefix_dict[prefix] += 1\n",
    "            "
   ]
  },
  {
   "cell_type": "code",
   "execution_count": 11,
   "metadata": {},
   "outputs": [
    {
     "data": {
      "text/plain": [
       "{'00': 250,\n",
       " '01': 255,\n",
       " '02': 255,\n",
       " '03': 254,\n",
       " '04': 254,\n",
       " '05': 254,\n",
       " '06': 254,\n",
       " '07': 256,\n",
       " '08': 256,\n",
       " '09': 254,\n",
       " 'en': 256,\n",
       " 'er': 254,\n",
       " 'go': 256,\n",
       " 'hp': 253,\n",
       " 'no': 255,\n",
       " 'rb': 254,\n",
       " 'rp': 255,\n",
       " 'sp': 256,\n",
       " 'st': 254,\n",
       " 'ys': 247}"
      ]
     },
     "execution_count": 11,
     "metadata": {},
     "output_type": "execute_result"
    }
   ],
   "source": [
    "prefix_dict"
   ]
  },
  {
   "cell_type": "code",
   "execution_count": 14,
   "metadata": {},
   "outputs": [
    {
     "name": "stdout",
     "output_type": "stream",
     "text": [
      "Number of recordings: 5082\n"
     ]
    }
   ],
   "source": [
    "x = 0\n",
    "for val in prefix_dict.values():\n",
    "    x += val\n",
    "    \n",
    "print(\"Number of recordings: {}\".format(x))"
   ]
  },
  {
   "cell_type": "markdown",
   "metadata": {},
   "source": [
    "**Done manually, !rabaut ??**"
   ]
  },
  {
   "cell_type": "code",
   "execution_count": null,
   "metadata": {},
   "outputs": [],
   "source": [
    "# rb == rabaut ???\n",
    "transcription_dict = {'00': 'zero',\n",
    "                   '01': 'one',\n",
    "                   '02': 'two',\n",
    "                   '03': 'three',\n",
    "                   '04': 'four',\n",
    "                   '05': 'five',\n",
    "                   '06': 'six',\n",
    "                   '07': 'seven',\n",
    "                   '08': 'eight',\n",
    "                   '09': 'nine',\n",
    "                   'en': 'enter',\n",
    "                   'er': 'erase',\n",
    "                   'go': 'go',\n",
    "                   'hp': 'help',\n",
    "                   'no': 'no',\n",
    "                   'rb': 'rabaut',\n",
    "                   'rp': 'repeat',\n",
    "                   'sp': 'stop',\n",
    "                   'st': 'start',\n",
    "                   'ys': 'yes'\n",
    "}"
   ]
  },
  {
   "cell_type": "markdown",
   "metadata": {},
   "source": [
    "**path, sentence encoded later**"
   ]
  },
  {
   "cell_type": "code",
   "execution_count": null,
   "metadata": {},
   "outputs": [],
   "source": [
    "path_column = []\n",
    "sentence_column = []\n",
    "\n",
    "for clip_dir in clip_dirs:\n",
    "\n",
    "    suffix = clip_dir.split(\"\\\\\")[-1]\n",
    "    \n",
    "    for root,dirs,files in os.walk(clip_dir):\n",
    "\n",
    "        for file in files:\n",
    "            \n",
    "            prefix = file.split(suffix)[0]\n",
    "            \n",
    "            path_column.append(file)\n",
    "            sentence_column.append(transcription_dict[prefix])"
   ]
  },
  {
   "cell_type": "code",
   "execution_count": null,
   "metadata": {},
   "outputs": [],
   "source": [
    "df = pd.DataFrame({'path': pd.Series(path_column),\n",
    "     'sentence': pd.Series(sentence_column)\n",
    "})"
   ]
  },
  {
   "cell_type": "markdown",
   "metadata": {},
   "source": [
    "## Export"
   ]
  },
  {
   "cell_type": "code",
   "execution_count": null,
   "metadata": {},
   "outputs": [],
   "source": [
    "export_dir = os.path.join(\"..\",\"Datasets\",\"ti20\",tt)\n",
    "\n",
    "df.to_csv(os.path.join(export_dir,\"ti20_\"+tt+\".csv\"),index=False)\n",
    "df.to_pickle(os.path.join(export_dir,\"ti20_\"+tt+\".pkl\")) "
   ]
  },
  {
   "cell_type": "code",
   "execution_count": null,
   "metadata": {},
   "outputs": [],
   "source": []
  }
 ],
 "metadata": {
  "kernelspec": {
   "display_name": "Python 3",
   "language": "python",
   "name": "python3"
  },
  "language_info": {
   "codemirror_mode": {
    "name": "ipython",
    "version": 3
   },
   "file_extension": ".py",
   "mimetype": "text/x-python",
   "name": "python",
   "nbconvert_exporter": "python",
   "pygments_lexer": "ipython3",
   "version": "3.8.3"
  }
 },
 "nbformat": 4,
 "nbformat_minor": 4
}
