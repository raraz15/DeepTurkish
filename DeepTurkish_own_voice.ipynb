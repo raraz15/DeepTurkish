{
 "cells": [
  {
   "cell_type": "markdown",
   "id": "concerned-luther",
   "metadata": {},
   "source": [
    "# DeepTurkish Testing\n",
    "\n",
    "This notebook is loading a trained model and directly testing it."
   ]
  },
  {
   "cell_type": "code",
   "execution_count": null,
   "id": "million-calcium",
   "metadata": {},
   "outputs": [],
   "source": [
    "import os\n",
    "\n",
    "import torch\n",
    "import torch.nn.functional as F\n",
    "import librosa\n",
    "import numpy as np\n",
    "from sklearn.preprocessing import MinMaxScaler\n",
    "\n",
    "import utilities.utilities as utils\n",
    "from model.neural_network import make_model\n",
    "from model.data_loader import make_loaders\n",
    "from decoders import decoders\n",
    "from evaluation import test\n",
    "\n",
    "device = torch.device(\"cuda:0\" if torch.cuda.is_available() else \"cpu\")\n",
    "print(\"Device: {}\".format(device))"
   ]
  },
  {
   "cell_type": "markdown",
   "id": "baking-distribution",
   "metadata": {},
   "source": [
    "## 1) Load the State Dicts,"
   ]
  },
  {
   "cell_type": "code",
   "execution_count": null,
   "id": "integral-democracy",
   "metadata": {},
   "outputs": [],
   "source": [
    "project_name =\"METUbet+Mozilla\"\n",
    "model_name = '01_03__05_02_2021'\n",
    "\n",
    "iter_meter = utils.IterMeter(project_name, model_name)\n",
    "\n",
    "model_path = os.path.join(\"data\",\"models and losses\",project_name,model_name,\"{}.pt\".format(model_name))\n",
    "model_state = torch.load(model_path) \n",
    "\n",
    "hyperparameters = model_state['hyperparameters']\n",
    "data_parameters = model_state['data_parameters']\n",
    "\n",
    "hyperparameters['model_dir'] = model_path # for loading the model"
   ]
  },
  {
   "cell_type": "markdown",
   "id": "american-reporter",
   "metadata": {},
   "source": [
    "## 2) Make the Model, Criterion and the Loader"
   ]
  },
  {
   "cell_type": "code",
   "execution_count": null,
   "id": "mental-terminal",
   "metadata": {},
   "outputs": [],
   "source": [
    "# If you trained the model in Colab, you have to change a few paths\n",
    "data_parameters['dataframe_dir_train'] = os.path.join(\"data\",\"datasets\",\"METUbet\",\"data\",\"METUbet_ordered_train.pkl\")\n",
    "data_parameters['dataframe_dir_test'] = os.path.join(\"data\",\"datasets\",\"METUbet\",\"data\",\"METUbet_ordered_test.pkl\")\n",
    "data_parameters['train_dir'] = os.path.join(\"data\",\"datasets\",\"METUbet\",\"data\",\"spectrograms\",\"dB\")\n",
    "data_parameters['test_dir'] = os.path.join(\"data\",\"datasets\",\"METUbet\",\"data\",\"spectrograms\",\"dB\")"
   ]
  },
  {
   "cell_type": "code",
   "execution_count": null,
   "id": "inside-logging",
   "metadata": {},
   "outputs": [],
   "source": [
    "# Create the test loader\n",
    "_,_,test_loader = make_loaders(data_parameters, sortagrad=False)\n",
    "\n",
    "# Create the model and the Criterion\n",
    "model, _, _, _ = make_model(hyperparameters, data_parameters['blank'], len(test_loader), device)"
   ]
  },
  {
   "cell_type": "markdown",
   "id": "vanilla-strengthening",
   "metadata": {},
   "source": [
    "## 3) Choose a Decoder\n",
    "\n",
    "Choose a decoder for decoding the ctc output matrix."
   ]
  },
  {
   "cell_type": "code",
   "execution_count": null,
   "id": "asian-profile",
   "metadata": {},
   "outputs": [],
   "source": [
    "# Argmax decoder\n",
    "decoder = decoders.Argmax_decoder(data_parameters['alphabet'], data_parameters['blank'])"
   ]
  },
  {
   "cell_type": "code",
   "execution_count": null,
   "id": "charged-oxide",
   "metadata": {},
   "outputs": [],
   "source": [
    "# BeamSearch Decoder\n",
    "LM_text_name=\"NN_datasets_sentences\"\n",
    "beam_width = 5\n",
    "prune_threshold = -7 # = log(0.001)\n",
    "\n",
    "decoder = decoders.BeamSearch_decoder(data_parameters['alphabet'], data_parameters['blank'], beam_width, prune_threshold, LM_text_name)"
   ]
  },
  {
   "cell_type": "code",
   "execution_count": null,
   "id": "genuine-christian",
   "metadata": {},
   "outputs": [],
   "source": [
    "# LexiconSearch\n",
    "tolerance = 1\n",
    "\n",
    "# choose an apprroximator for the Lexicon Search algorithm\n",
    "BW = 5\n",
    "prune = -7 # = log(0.001)\n",
    "LM_text_name=\"NN_datasets_sentences\"\n",
    "\n",
    "approximator_properties = ('BeamSearch+LM',data_parameters['blank'], BW, prune, LM_text_name)\n",
    "\n",
    "decoder = decoders.LexiconSearch_decoder(data_parameters['alphabet'], tolerance, LM_text_name, approximator_properties)"
   ]
  },
  {
   "cell_type": "markdown",
   "id": "valid-peeing",
   "metadata": {},
   "source": [
    "## 4) Read an Audio CLip"
   ]
  },
  {
   "cell_type": "code",
   "execution_count": null,
   "id": "august-child",
   "metadata": {},
   "outputs": [],
   "source": [
    "clip_dir = os.path.join(\"data\",\"audio_clips\")\n",
    "\n",
    "audio_path = os.path.join(clip_dir, \"elif_ses.wav\")\n",
    "#audio_path = os.path.join(clip_dir, \"s1002-003.wav\")\n",
    "\n",
    "audio,sr = librosa.load(audio_path,sr=16000)\n",
    " \n",
    "amplitude_spectrogram = np.abs(librosa.stft(audio,n_fft=512,hop_length=int(512/3),win_length=512))\n",
    "dB_spectrogram = librosa.amplitude_to_db(amplitude_spectrogram,np.max(amplitude_spectrogram))\n",
    "\n",
    "data = MinMaxScaler(copy=False).fit_transform(dB_spectrogram)\n",
    "\n",
    "X = torch.from_numpy(data).to(device) # Convert to tensor \n",
    "X = X.unsqueeze(dim=0).unsqueeze(dim=0)"
   ]
  },
  {
   "cell_type": "code",
   "execution_count": null,
   "id": "conventional-investigation",
   "metadata": {},
   "outputs": [],
   "source": [
    "output = model(X)\n",
    "log_probs = F.log_softmax(output, dim=-1).detach().cpu().numpy()\n",
    "\n",
    "decoder.decode(log_probs)"
   ]
  },
  {
   "cell_type": "code",
   "execution_count": null,
   "id": "anonymous-montgomery",
   "metadata": {},
   "outputs": [],
   "source": []
  }
 ],
 "metadata": {
  "kernelspec": {
   "display_name": "Python 3",
   "language": "python",
   "name": "python3"
  },
  "language_info": {
   "codemirror_mode": {
    "name": "ipython",
    "version": 3
   },
   "file_extension": ".py",
   "mimetype": "text/x-python",
   "name": "python",
   "nbconvert_exporter": "python",
   "pygments_lexer": "ipython3",
   "version": "3.8.3"
  }
 },
 "nbformat": 4,
 "nbformat_minor": 5
}
