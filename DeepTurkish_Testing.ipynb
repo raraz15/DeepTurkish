{
 "cells": [
  {
   "cell_type": "markdown",
   "id": "concerned-luther",
   "metadata": {},
   "source": [
    "# DeepTurkish Testing\n",
    "\n",
    "This notebook is loading a trained model and directly testing it."
   ]
  },
  {
   "cell_type": "code",
   "execution_count": null,
   "id": "million-calcium",
   "metadata": {},
   "outputs": [],
   "source": [
    "import os\n",
    "\n",
    "import torch\n",
    "\n",
    "import utilities.utilities as utils\n",
    "from model.neural_network import make_model\n",
    "from model.data_loader import make_loaders\n",
    "from decoders import decoders\n",
    "from evaluation import test\n",
    "\n",
    "device = torch.device(\"cuda:0\" if torch.cuda.is_available() else \"cpu\")\n",
    "print(\"Device: {}\".format(device))"
   ]
  },
  {
   "cell_type": "markdown",
   "id": "baking-distribution",
   "metadata": {},
   "source": [
    "## 1) Load the State Dicts,"
   ]
  },
  {
   "cell_type": "code",
   "execution_count": null,
   "id": "integral-democracy",
   "metadata": {},
   "outputs": [],
   "source": [
    "project_name =\"try\"\n",
    "model_name = '13_18__02_02_2021'\n",
    "\n",
    "iter_meter = utils.IterMeter(project_name, model_name)\n",
    "\n",
    "model_path = os.path.join(\"data\",\"models and losses\",project_name,model_name,\"{}.pt\".format(model_name))\n",
    "model_state = torch.load(model_path) \n",
    "\n",
    "hyperparameters = model_state['hyperparameters']\n",
    "data_parameters = model_state['data_parameters']\n",
    "\n",
    "hyperparameters['model_dir'] = model_path # for loading the model"
   ]
  },
  {
   "cell_type": "markdown",
   "id": "american-reporter",
   "metadata": {},
   "source": [
    "## 2) Make the Model, Criterion and the Loader"
   ]
  },
  {
   "cell_type": "code",
   "execution_count": null,
   "id": "inside-logging",
   "metadata": {},
   "outputs": [],
   "source": [
    "# Create the test loader\n",
    "_,_,test_loader = make_loaders(data_parameters, sortagrad=False)\n",
    "\n",
    "# Create the model and the Criterion\n",
    "model, criterion, _, _ = make_model(hyperparameters, data_parameters['blank'], len(test_loader), device)"
   ]
  },
  {
   "cell_type": "markdown",
   "id": "vanilla-strengthening",
   "metadata": {},
   "source": [
    "## 3) Choose a Decoder\n",
    "\n",
    "Choose a decoder for decoding the ctc output matrix."
   ]
  },
  {
   "cell_type": "code",
   "execution_count": null,
   "id": "asian-profile",
   "metadata": {},
   "outputs": [],
   "source": [
    "# Argmax decoder\n",
    "decoder = decoders.Argmax_decoder(data_parameters['alphabet'], data_parameters['blank'])"
   ]
  },
  {
   "cell_type": "code",
   "execution_count": null,
   "id": "individual-cross",
   "metadata": {},
   "outputs": [],
   "source": [
    "# BeamSearch Decoder\n",
    "LM_text_name=\"NN_datasets_sentences\"\n",
    "beam_width = 3\n",
    "prune_threshold = -7 # log(0.001)\n",
    "\n",
    "decoder = decoders.BeamSearch_decoder(data_parameters['alphabet'], data_parameters['blank'], beam_width, prune_threshold, LM_text_name)"
   ]
  },
  {
   "cell_type": "code",
   "execution_count": null,
   "id": "genuine-christian",
   "metadata": {},
   "outputs": [],
   "source": [
    "# LexiconSearch\n",
    "tolerance = 1\n",
    "\n",
    "# choose an apprroximator for the Lexicon Search algorithm\n",
    "BW = 2\n",
    "prune = -7 # = log(0.001)\n",
    "LM_text_name=\"NN_datasets_sentences\"\n",
    "\n",
    "approximator_properties = ('BeamSearch+LM',data_parameters['blank'], BW, prune, LM_text_name)\n",
    "\n",
    "decoder = decoders.LexiconSearch_decoder(data_parameters['alphabet'], tolerance, LM_text_name, approximator_properties)"
   ]
  },
  {
   "cell_type": "markdown",
   "id": "alert-episode",
   "metadata": {},
   "source": [
    "## 4) Test"
   ]
  },
  {
   "cell_type": "code",
   "execution_count": null,
   "id": "comic-principal",
   "metadata": {},
   "outputs": [],
   "source": [
    "avg_test_loss, avg_cer, avg_wer = test(model, criterion, decoder, test_loader)"
   ]
  },
  {
   "cell_type": "code",
   "execution_count": null,
   "id": "silent-bikini",
   "metadata": {},
   "outputs": [],
   "source": []
  }
 ],
 "metadata": {
  "kernelspec": {
   "display_name": "Python 3",
   "language": "python",
   "name": "python3"
  },
  "language_info": {
   "codemirror_mode": {
    "name": "ipython",
    "version": 3
   },
   "file_extension": ".py",
   "mimetype": "text/x-python",
   "name": "python",
   "nbconvert_exporter": "python",
   "pygments_lexer": "ipython3",
   "version": "3.8.3"
  }
 },
 "nbformat": 4,
 "nbformat_minor": 5
}
